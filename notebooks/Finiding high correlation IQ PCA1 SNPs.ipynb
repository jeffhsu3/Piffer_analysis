{
 "metadata": {
  "name": "",
  "signature": "sha256:dc1cefe91e5bbcb4c3a4e705cc7698161f2c676eaec85d0478fc84de55f9a250"
 },
 "nbformat": 3,
 "nbformat_minor": 0,
 "worksheets": [
  {
   "cells": [
    {
     "cell_type": "code",
     "collapsed": false,
     "input": [
      "import pandas as pd\n",
      "import numpy as np\n",
      "\n",
      "from scipy.stats import pearsonr\n",
      "url_1000G_phase3_base = '../../1KG_proj/'\n",
      "url_1000G_phase3_prefix = 'ALL.chr'\n",
      "url_1000G_phase3_suffix = '.phase3_shapeit2_mvncall_integrated_v5.20130502.genotypes.vcf.gz'\n",
      "populations_1000G = pd.read_csv(url_1000G_phase3_base + 'integrated_call_samples_v3.20130502.ALL.panel', \n",
      "                                sep = \"\\t\", index_col = 0)"
     ],
     "language": "python",
     "metadata": {},
     "outputs": [],
     "prompt_number": 1
    },
    {
     "cell_type": "code",
     "collapsed": false,
     "input": [
      "pca4 = pd.read_csv('../data/4SNP_4PCA_pops.txt', sep=\"\\t\", header=0, index_col=0)"
     ],
     "language": "python",
     "metadata": {},
     "outputs": [],
     "prompt_number": 2
    },
    {
     "cell_type": "code",
     "collapsed": false,
     "input": [
      "r_thresh = 0.8"
     ],
     "language": "python",
     "metadata": {},
     "outputs": [],
     "prompt_number": 3
    },
    {
     "cell_type": "code",
     "collapsed": false,
     "input": [
      "pcaIQ = pd.read_csv('../data/Piffer_pcs.csv', sep=\",\", index_col=0)"
     ],
     "language": "python",
     "metadata": {},
     "outputs": [],
     "prompt_number": 4
    },
    {
     "cell_type": "code",
     "collapsed": false,
     "input": [
      "pcaIQ.head()"
     ],
     "language": "python",
     "metadata": {},
     "outputs": [
      {
       "html": [
        "<div style=\"max-height:1000px;max-width:1500px;overflow:auto;\">\n",
        "<table border=\"1\" class=\"dataframe\">\n",
        "  <thead>\n",
        "    <tr style=\"text-align: right;\">\n",
        "      <th></th>\n",
        "      <th>Top4SNPs PC</th>\n",
        "      <th>Top3SNPs PC</th>\n",
        "    </tr>\n",
        "    <tr>\n",
        "      <th>Population</th>\n",
        "      <th></th>\n",
        "      <th></th>\n",
        "    </tr>\n",
        "  </thead>\n",
        "  <tbody>\n",
        "    <tr>\n",
        "      <th>ACB</th>\n",
        "      <td>-1.37606</td>\n",
        "      <td>-1.06664</td>\n",
        "    </tr>\n",
        "    <tr>\n",
        "      <th>ASW</th>\n",
        "      <td>-1.21950</td>\n",
        "      <td>-1.11426</td>\n",
        "    </tr>\n",
        "    <tr>\n",
        "      <th>BEB</th>\n",
        "      <td> 0.05106</td>\n",
        "      <td> 0.76545</td>\n",
        "    </tr>\n",
        "    <tr>\n",
        "      <th>CDX</th>\n",
        "      <td> 1.11266</td>\n",
        "      <td> 0.58564</td>\n",
        "    </tr>\n",
        "    <tr>\n",
        "      <th>CEU</th>\n",
        "      <td> 0.75120</td>\n",
        "      <td> 0.90916</td>\n",
        "    </tr>\n",
        "  </tbody>\n",
        "</table>\n",
        "</div>"
       ],
       "metadata": {},
       "output_type": "pyout",
       "prompt_number": 5,
       "text": [
        "            Top4SNPs PC  Top3SNPs PC\n",
        "Population                          \n",
        "ACB            -1.37606     -1.06664\n",
        "ASW            -1.21950     -1.11426\n",
        "BEB             0.05106      0.76545\n",
        "CDX             1.11266      0.58564\n",
        "CEU             0.75120      0.90916"
       ]
      }
     ],
     "prompt_number": 5
    },
    {
     "cell_type": "code",
     "collapsed": false,
     "input": [
      "plt.scatter(pcaIQ.iloc[:,0], pca4.ix[0,:])"
     ],
     "language": "python",
     "metadata": {},
     "outputs": [
      {
       "ename": "NameError",
       "evalue": "name 'plt' is not defined",
       "output_type": "pyerr",
       "traceback": [
        "\u001b[1;31m---------------------------------------------------------------------------\u001b[0m\n\u001b[1;31mNameError\u001b[0m                                 Traceback (most recent call last)",
        "\u001b[1;32m<ipython-input-6-5e18f71a148d>\u001b[0m in \u001b[0;36m<module>\u001b[1;34m()\u001b[0m\n\u001b[1;32m----> 1\u001b[1;33m \u001b[0mplt\u001b[0m\u001b[1;33m.\u001b[0m\u001b[0mscatter\u001b[0m\u001b[1;33m(\u001b[0m\u001b[0mpcaIQ\u001b[0m\u001b[1;33m.\u001b[0m\u001b[0miloc\u001b[0m\u001b[1;33m[\u001b[0m\u001b[1;33m:\u001b[0m\u001b[1;33m,\u001b[0m\u001b[1;36m0\u001b[0m\u001b[1;33m]\u001b[0m\u001b[1;33m,\u001b[0m \u001b[0mpca4\u001b[0m\u001b[1;33m.\u001b[0m\u001b[0mix\u001b[0m\u001b[1;33m[\u001b[0m\u001b[1;36m0\u001b[0m\u001b[1;33m,\u001b[0m\u001b[1;33m:\u001b[0m\u001b[1;33m]\u001b[0m\u001b[1;33m)\u001b[0m\u001b[1;33m\u001b[0m\u001b[0m\n\u001b[0m",
        "\u001b[1;31mNameError\u001b[0m: name 'plt' is not defined"
       ]
      }
     ],
     "prompt_number": 6
    },
    {
     "cell_type": "code",
     "collapsed": false,
     "input": [
      "# Initiate first\n",
      "\n",
      "def get_PC_snps(chrom, pca, r_thresh = 0.8):\n",
      "    \"\"\" Get the snps that correlate with a princeple component\n",
      "    \"\"\"\n",
      "    c_pc = pd.Series()\n",
      "    tf = pd.read_csv('../../1KG_proj/allele_frequncies/AF%s.txt' % str(chrom), \n",
      "                        sep=\"\\t\", index_col=2, chunksize=5000, header=0)\n",
      "\n",
      "    debug = 0\n",
      "    for i in tf:\n",
      "        test = i.ix[:, 2:].apply(lambda x: pearsonr(x, pca)[0], axis=1)\n",
      "        test = test[np.logical_or(test.values >= r_thresh,\n",
      "                                  test.values <= -1 * r_thresh)]\n",
      "        print('prior append %i' % len(c_pc) )\n",
      "\n",
      "        print('about to add %i' %len(test))\n",
      "        c_pc = c_pc.append(test)\n",
      "        debug += 1\n",
      "        print('After add %i' %len(test))\n",
      "        if debug >= 4:\n",
      "            break\n",
      "            \n",
      "    print(len(test))     \n",
      "    #test.to_csv('../data/IQ_snps/chr%s_IQPC_snps.txt' % str(chrom))    \n",
      "    "
     ],
     "language": "python",
     "metadata": {},
     "outputs": [],
     "prompt_number": 149
    },
    {
     "cell_type": "code",
     "collapsed": false,
     "input": [
      "# Initiate first\n",
      "\n",
      "def get_PC_snps(chrom, pca, r_thresh = 0.8):\n",
      "    \"\"\" Get the snps that correlate with a princeple component\n",
      "    \"\"\"\n",
      "    c_pc = pd.Series()\n",
      "    tf = pd.read_csv('../../1KG_proj/allele_frequncies/AF%s.txt' % str(chrom), \n",
      "                        sep=\"\\t\", index_col=2, header=0)\n",
      "    test = tf.ix[:, 2:].apply(lambda x: pearsonr(x, pca)[0], axis=1)\n",
      "    test = test[np.logical_or(test.values >= r_thresh,\n",
      "                              test.values <= -1 * r_thresh)]\n",
      "               \n",
      "         \n",
      "    test.to_csv('../data/IQ_snps/chr%s_IQPC_snps.txt' % str(chrom))    \n",
      "    "
     ],
     "language": "python",
     "metadata": {},
     "outputs": [],
     "prompt_number": 7
    },
    {
     "cell_type": "code",
     "collapsed": false,
     "input": [
      "get_PC_snps(8, pcaIQ.ix[:,0], r_thresh=0.9)"
     ],
     "language": "python",
     "metadata": {},
     "outputs": [],
     "prompt_number": 19
    },
    {
     "cell_type": "code",
     "collapsed": false,
     "input": [
      "def get_pairwise_ld(chrom):\n",
      "    \"\"\" Calculate population based ld of SNPs\n",
      "    \"\"\"\n",
      "    snps = pd.read_csv('../data/IQ_snps/chr%s_IQPC_snps.txt' % str(chrom))\n",
      "    filename = url_1000G_phase3_base + url_1000G_phase3_prefix + str(chromosome) + url_1000G_phase3_suffix \n",
      "    f = gzip.open(filename, 'rb')\n",
      "    for i in f:\n",
      "        "
     ],
     "language": "python",
     "metadata": {},
     "outputs": []
    },
    {
     "cell_type": "code",
     "collapsed": false,
     "input": [
      "for i in range(2, 5):\n",
      "    print(i)"
     ],
     "language": "python",
     "metadata": {},
     "outputs": [
      {
       "output_type": "stream",
       "stream": "stdout",
       "text": [
        "2\n",
        "3\n",
        "4\n"
       ]
      }
     ],
     "prompt_number": 11
    },
    {
     "cell_type": "code",
     "collapsed": false,
     "input": [],
     "language": "python",
     "metadata": {},
     "outputs": []
    }
   ],
   "metadata": {}
  }
 ]
}